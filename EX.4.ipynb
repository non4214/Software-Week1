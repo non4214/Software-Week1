{
 "cells": [
  {
   "cell_type": "code",
   "execution_count": 1,
   "metadata": {},
   "outputs": [
    {
     "name": "stdout",
     "output_type": "stream",
     "text": [
      "[1, 2, 4]\n"
     ]
    }
   ],
   "source": [
    "def find_duplicate_num(list_of_num):\n",
    "    checklist = []\n",
    "    x = 0\n",
    "    for i in range(len(list_of_num)):\n",
    "        x += 1\n",
    "        for j in range(x,len(list_of_num)):\n",
    "            if list_of_num[i] == list_of_num[j] and list_of_num[i] not in checklist:\n",
    "                checklist.append(list_of_num[i])\n",
    "    return checklist\n",
    "\n",
    "#test\n",
    "if __name__ == '__main__' :\n",
    "    print(find_duplicate_num([1,1,5,1,2,2,3,4,4]))"
   ]
  },
  {
   "cell_type": "code",
   "execution_count": 2,
   "metadata": {},
   "outputs": [
    {
     "name": "stderr",
     "output_type": "stream",
     "text": [
      ".\n",
      "----------------------------------------------------------------------\n",
      "Ran 1 test in 0.001s\n",
      "\n",
      "OK\n"
     ]
    }
   ],
   "source": [
    "import unittest\n",
    "\n",
    "#from EX.4 import find_duplicate_num\n",
    "\n",
    "class TestA(unittest.TestCase):\n",
    "\n",
    "    def test_find_duplicate_num(self):\n",
    "        input = [1,1,5,1,2,2,3,4,4]\n",
    "        expectResult = [1,2,4]\n",
    "        actualResult = find_duplicate_num(input)\n",
    "        self.assertEqual(actualResult, expectResult)\n",
    "\n",
    "if __name__ == '__main__' :\n",
    "    unittest.main(argv=['first-arg-is-ignored'], exit=False) "
   ]
  },
  {
   "cell_type": "code",
   "execution_count": null,
   "metadata": {},
   "outputs": [],
   "source": []
  }
 ],
 "metadata": {
  "kernelspec": {
   "display_name": "Python 3",
   "language": "python",
   "name": "python3"
  },
  "language_info": {
   "codemirror_mode": {
    "name": "ipython",
    "version": 3
   },
   "file_extension": ".py",
   "mimetype": "text/x-python",
   "name": "python",
   "nbconvert_exporter": "python",
   "pygments_lexer": "ipython3",
   "version": "3.7.3"
  }
 },
 "nbformat": 4,
 "nbformat_minor": 2
}
