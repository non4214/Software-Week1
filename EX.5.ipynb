{
 "cells": [
  {
   "cell_type": "code",
   "execution_count": 1,
   "metadata": {},
   "outputs": [
    {
     "name": "stdout",
     "output_type": "stream",
     "text": [
      "0, -1, 1\n",
      "0, 2, -2\n",
      "2, -3, 1\n"
     ]
    }
   ],
   "source": [
    "def triplet_zero(array):\n",
    "\n",
    "    carry = []\n",
    "\n",
    "    for i in range(len(array)-1):\n",
    "        for j in range(i+1, len(array)):\n",
    "            carry.append([array[i], array[j]])\n",
    "    \n",
    "    for k in range(len(carry)):\n",
    "        index_last = array.index(carry[k][1])\n",
    "        # print(array[index_last+1:])\n",
    "        first_term = carry[k][0]\n",
    "        mid_term = carry[k][1]\n",
    "        last_term = array[index_last+1:]\n",
    "        for m in range(len(last_term)):\n",
    "            total = first_term + mid_term + last_term[m]\n",
    "            if ( total == 0 ):\n",
    "                print(\"{}, {}, {}\".format(first_term, mid_term, last_term[m]))\n",
    "\n",
    "\n",
    "a = [0, -1, 2, -3, 1, -2]\n",
    "triplet_zero(a)   # output >> (0, -1, 1), (0, 2, -2), (2, -3, 1)"
   ]
  },
  {
   "cell_type": "code",
   "execution_count": null,
   "metadata": {},
   "outputs": [],
   "source": []
  }
 ],
 "metadata": {
  "kernelspec": {
   "display_name": "Python 3",
   "language": "python",
   "name": "python3"
  },
  "language_info": {
   "codemirror_mode": {
    "name": "ipython",
    "version": 3
   },
   "file_extension": ".py",
   "mimetype": "text/x-python",
   "name": "python",
   "nbconvert_exporter": "python",
   "pygments_lexer": "ipython3",
   "version": "3.7.3"
  }
 },
 "nbformat": 4,
 "nbformat_minor": 2
}
