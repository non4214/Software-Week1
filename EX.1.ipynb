{
 "cells": [
  {
   "cell_type": "code",
   "execution_count": 3,
   "metadata": {},
   "outputs": [
    {
     "name": "stdout",
     "output_type": "stream",
     "text": [
      "123456(Men)(08/01/2001)\n"
     ]
    }
   ],
   "source": [
    "class Person:\n",
    "  def __init__(self, SocialSecurityNumber, Gender, DateOfBirtyh):\n",
    "    self.SocialSecurityNumber = SocialSecurityNumber\n",
    "    self.Gender = Gender\n",
    "    self.DateOfBirtyh = DateOfBirtyh\n",
    "\n",
    "\n",
    "  def __str__(self):\n",
    "    return f\"{ self.SocialSecurityNumber}({ self.Gender})({ self.DateOfBirtyh})\"\n",
    "\n",
    "p1 = Person(\"123456\", \"Men\",\"08/01/2001\")\n",
    "\n",
    "print(p1)"
   ]
  },
  {
   "cell_type": "code",
   "execution_count": 1,
   "metadata": {},
   "outputs": [
    {
     "name": "stdout",
     "output_type": "stream",
     "text": [
      "[1, 2, 4]\n"
     ]
    }
   ],
   "source": [
