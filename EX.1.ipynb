{
 "cells": [
  {
   "cell_type": "code",
   "execution_count": 3,
   "metadata": {},
   "outputs": [
    {
     "name": "stdout",
     "output_type": "stream",
     "text": [
      "123456(Men)(08/01/2001)\n"
     ]
    }
   ],
   "source": [
    "class Person:\n",
    "  def __init__(self, SocialSecurityNumber, Gender, DateOfBirtyh):\n",
    "    self.SocialSecurityNumber = SocialSecurityNumber\n",
    "    self.Gender = Gender\n",
    "    self.DateOfBirtyh = DateOfBirtyh\n",
    "\n",
    "\n",
    "  def __str__(self):\n",
    "    return f\"{ self.SocialSecurityNumber}({ self.Gender})({ self.DateOfBirtyh})\"\n",
    "\n",
    "p1 = Person(\"123456\", \"Men\",\"08/01/2001\")\n",
    "\n",
    "print(p1)"
   ]
  },
  {
   "cell_type": "code",
   "execution_count": 1,
   "metadata": {},
   "outputs": [
    {
     "name": "stdout",
     "output_type": "stream",
     "text": [
      "[1, 2, 4]\n"
     ]
    }
   ],
   "source": [
    "def find_doubly_num(list_of_num):\n",
    "    checklist = []\n",
    "    x = 0\n",
    "    for i in range(len(list_of_num)):\n",
    "        x += 1\n",
    "        for j in range(x,len(list_of_num)):\n",
    "            if list_of_num[i] == list_of_num[j] and list_of_num[i] not in checklist:\n",
    "                checklist.append(list_of_num[i])\n",
    "    return checklist\n",
    "\n",
    "#test\n",
    "if __name__ == '__main__' :\n",
    "    print(find_doubly_num([1,1,1,2,2,3,4,4]))"
   ]
  },
  {
   "cell_type": "code",
   "execution_count": null,
   "metadata": {},
   "outputs": [],
   "source": []
  }
 ],
 "metadata": {
  "kernelspec": {
   "display_name": "Python 3",
   "language": "python",
   "name": "python3"
  },
  "language_info": {
   "codemirror_mode": {
    "name": "ipython",
    "version": 3
   },
   "file_extension": ".py",
   "mimetype": "text/x-python",
   "name": "python",
   "nbconvert_exporter": "python",
   "pygments_lexer": "ipython3",
   "version": "3.7.3"
  }
 },
 "nbformat": 4,
 "nbformat_minor": 2
}
