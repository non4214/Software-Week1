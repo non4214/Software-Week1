{
 "cells": [
  {
   "cell_type": "code",
   "execution_count": 25,
   "metadata": {},
   "outputs": [
    {
     "name": "stdout",
     "output_type": "stream",
     "text": [
      "[[70, 130, 20, 90, 150, 50, 200, 40], [50, 150, 20, 70, 90, 40, 130, 30], [130, 70, 20, 150, 90, 50, 140, 40]]\n"
     ]
    }
   ],
   "source": [
    "# find c1 , c2 , set A\n",
    "with open('input.txt') as f:\n",
    "    inPut = f.read().splitlines() \n",
    "# print(inPut)\n",
    "c1 = int(inPut[0].split(' ')[1])\n",
    "c2 = int(inPut[0].split(' ')[2])\n",
    "inPut = inPut[1:]\n",
    "A = []\n",
    "for i in inPut:\n",
    "    A.append(int(i))\n",
    "\n",
    "\n",
    "'''\n",
    "c1 = x1 + x2\n",
    "x4 = x3 + x1\n",
    "x8 = c2 + x6 \n",
    "x7 = x5 + x6 \n",
    "'''\n",
    "\n",
    "def sol (c1 , c2 , A):\n",
    "    checklist =[]\n",
    "    sollist = []\n",
    "    for x1 in A:\n",
    "        for x2 in A:\n",
    "            if (x1!=x2 and c1==x1+x2):\n",
    "                checklist = [x1,x2]\n",
    "                for x3 in A:\n",
    "                    for x4 in A:\n",
    "                        if( x3 not in checklist  and x4 not in checklist and x4 == x1 + x3):\n",
    "                            checklist = [x1,x2,x3,x4]\n",
    "                            for x8 in A:\n",
    "                                for x6 in A:\n",
    "                                    if ( x8 not in checklist  and x6 not in checklist and x8 == c2 + x6):\n",
    "                                        checklist = [x1,x2,x3,x4,x6,x8]\n",
    "                                        for x5 in A:\n",
    "                                            for x7 in A:\n",
    "                                                if ( x5 not in checklist  and x7 not in checklist and x7 == x6 + x5):\n",
    "                                                    checklist = [x1,x2,x3,x4,x5,x6,x7,x8]\n",
    "                                                    sollist.append(checklist)\n",
    "    if (sollist):\n",
    "        return(sollist)\n",
    "    else:\n",
    "        return('หาบ่ได้')\n",
    "\n",
    "print(sol(c1,c2,A))"
   ]
  },
  {
   "cell_type": "code",
   "execution_count": 26,
   "metadata": {},
   "outputs": [
    {
     "name": "stderr",
     "output_type": "stream",
     "text": [
      "....\n",
      "----------------------------------------------------------------------\n",
      "Ran 4 tests in 0.002s\n",
      "\n",
      "OK\n"
     ]
    }
   ],
   "source": [
    "import unittest\n",
    "\n",
    "#from EX.4 import find_duplicate_num\n",
    "\n",
    "class Test_7(unittest.TestCase):\n",
    "    \n",
    "    def sol(self):\n",
    "        self.assertEqual(sol(c1,c2,A))\n",
    "      \n",
    "if __name__ == '__main__':\n",
    "    unittest.main(argv=['first-arg-is-ignored'], exit=False)"
   ]
  },
  {
   "cell_type": "code",
   "execution_count": null,
   "metadata": {},
   "outputs": [],
   "source": []
  }
 ],
 "metadata": {
  "kernelspec": {
   "display_name": "Python 3",
   "language": "python",
   "name": "python3"
  },
  "language_info": {
   "codemirror_mode": {
    "name": "ipython",
    "version": 3
   },
   "file_extension": ".py",
   "mimetype": "text/x-python",
   "name": "python",
   "nbconvert_exporter": "python",
   "pygments_lexer": "ipython3",
   "version": "3.7.3"
  }
 },
 "nbformat": 4,
 "nbformat_minor": 2
}
